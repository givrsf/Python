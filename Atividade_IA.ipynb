{
  "nbformat": 4,
  "nbformat_minor": 0,
  "metadata": {
    "colab": {
      "provenance": [],
      "toc_visible": true,
      "authorship_tag": "ABX9TyMIviVUmMRKABiRj/xheELI",
      "include_colab_link": true
    },
    "kernelspec": {
      "name": "python3",
      "display_name": "Python 3"
    },
    "language_info": {
      "name": "python"
    }
  },
  "cells": [
    {
      "cell_type": "markdown",
      "metadata": {
        "id": "view-in-github",
        "colab_type": "text"
      },
      "source": [
        "<a href=\"https://colab.research.google.com/github/givrsf/Python/blob/main/Atividade_IA.ipynb\" target=\"_parent\"><img src=\"https://colab.research.google.com/assets/colab-badge.svg\" alt=\"Open In Colab\"/></a>"
      ]
    },
    {
      "cell_type": "markdown",
      "source": [
        "# BASE DE DADOS\n"
      ],
      "metadata": {
        "id": "SwTdR1puf_2d"
      }
    },
    {
      "cell_type": "markdown",
      "source": [
        "1 - SIM / 0 - NÃO\n",
        "\n",
        "Features:\n",
        "\n",
        "1. Falta de ar\n",
        "2. Tosse\n",
        "3. Falta de paladar\n",
        "4. Coriza\n",
        "\n",
        "Paciente[1, 2, 3, 4, 5, 6]\n"
      ],
      "metadata": {
        "id": "YO9Pv3zMl7lH"
      }
    },
    {
      "cell_type": "code",
      "source": [
        "[] #Criando Paciente\n",
        "\n",
        "paciente1 = [0,1,0,1]\n",
        "paciente2 = [1,1,0,0]\n",
        "paciente3 = [0,0,0,1]\n",
        "\n",
        "paciente4 = [1,0,1,1]\n",
        "paciente5 = [1,1,1,1]\n",
        "paciente6 = [1,1,1,0]\n",
        "\n",
        "paciente_x = [paciente1, paciente2, paciente3, paciente4, paciente5, paciente6]\n",
        "\n",
        "\n",
        "# Classificação dos sintomas (1-Com Covid / 0-Sem Covid)\n",
        "covid_y = [0,0,0,1,1,1]"
      ],
      "metadata": {
        "id": "J6c4PVjNZ0IA"
      },
      "execution_count": null,
      "outputs": []
    },
    {
      "cell_type": "markdown",
      "source": [
        "# APRENDIZADO DE MAQUINA"
      ],
      "metadata": {
        "id": "4ycz_qmUciWl"
      }
    },
    {
      "cell_type": "code",
      "source": [
        "from sklearn.svm import LinearSVC\n"
      ],
      "metadata": {
        "id": "AO5Ubatgcrpf"
      },
      "execution_count": null,
      "outputs": []
    },
    {
      "cell_type": "code",
      "source": [
        "modelo = LinearSVC()\n",
        "\n",
        "modelo.fit(paciente_x, covid_y)"
      ],
      "metadata": {
        "id": "w0qfV_3hkrtw",
        "colab": {
          "base_uri": "https://localhost:8080/",
          "height": 75
        },
        "outputId": "5fb100ae-a732-4f2f-aeec-14a9ed624a3b"
      },
      "execution_count": null,
      "outputs": [
        {
          "output_type": "execute_result",
          "data": {
            "text/plain": [
              "LinearSVC()"
            ],
            "text/html": [
              "<style>#sk-container-id-7 {color: black;background-color: white;}#sk-container-id-7 pre{padding: 0;}#sk-container-id-7 div.sk-toggleable {background-color: white;}#sk-container-id-7 label.sk-toggleable__label {cursor: pointer;display: block;width: 100%;margin-bottom: 0;padding: 0.3em;box-sizing: border-box;text-align: center;}#sk-container-id-7 label.sk-toggleable__label-arrow:before {content: \"▸\";float: left;margin-right: 0.25em;color: #696969;}#sk-container-id-7 label.sk-toggleable__label-arrow:hover:before {color: black;}#sk-container-id-7 div.sk-estimator:hover label.sk-toggleable__label-arrow:before {color: black;}#sk-container-id-7 div.sk-toggleable__content {max-height: 0;max-width: 0;overflow: hidden;text-align: left;background-color: #f0f8ff;}#sk-container-id-7 div.sk-toggleable__content pre {margin: 0.2em;color: black;border-radius: 0.25em;background-color: #f0f8ff;}#sk-container-id-7 input.sk-toggleable__control:checked~div.sk-toggleable__content {max-height: 200px;max-width: 100%;overflow: auto;}#sk-container-id-7 input.sk-toggleable__control:checked~label.sk-toggleable__label-arrow:before {content: \"▾\";}#sk-container-id-7 div.sk-estimator input.sk-toggleable__control:checked~label.sk-toggleable__label {background-color: #d4ebff;}#sk-container-id-7 div.sk-label input.sk-toggleable__control:checked~label.sk-toggleable__label {background-color: #d4ebff;}#sk-container-id-7 input.sk-hidden--visually {border: 0;clip: rect(1px 1px 1px 1px);clip: rect(1px, 1px, 1px, 1px);height: 1px;margin: -1px;overflow: hidden;padding: 0;position: absolute;width: 1px;}#sk-container-id-7 div.sk-estimator {font-family: monospace;background-color: #f0f8ff;border: 1px dotted black;border-radius: 0.25em;box-sizing: border-box;margin-bottom: 0.5em;}#sk-container-id-7 div.sk-estimator:hover {background-color: #d4ebff;}#sk-container-id-7 div.sk-parallel-item::after {content: \"\";width: 100%;border-bottom: 1px solid gray;flex-grow: 1;}#sk-container-id-7 div.sk-label:hover label.sk-toggleable__label {background-color: #d4ebff;}#sk-container-id-7 div.sk-serial::before {content: \"\";position: absolute;border-left: 1px solid gray;box-sizing: border-box;top: 0;bottom: 0;left: 50%;z-index: 0;}#sk-container-id-7 div.sk-serial {display: flex;flex-direction: column;align-items: center;background-color: white;padding-right: 0.2em;padding-left: 0.2em;position: relative;}#sk-container-id-7 div.sk-item {position: relative;z-index: 1;}#sk-container-id-7 div.sk-parallel {display: flex;align-items: stretch;justify-content: center;background-color: white;position: relative;}#sk-container-id-7 div.sk-item::before, #sk-container-id-7 div.sk-parallel-item::before {content: \"\";position: absolute;border-left: 1px solid gray;box-sizing: border-box;top: 0;bottom: 0;left: 50%;z-index: -1;}#sk-container-id-7 div.sk-parallel-item {display: flex;flex-direction: column;z-index: 1;position: relative;background-color: white;}#sk-container-id-7 div.sk-parallel-item:first-child::after {align-self: flex-end;width: 50%;}#sk-container-id-7 div.sk-parallel-item:last-child::after {align-self: flex-start;width: 50%;}#sk-container-id-7 div.sk-parallel-item:only-child::after {width: 0;}#sk-container-id-7 div.sk-dashed-wrapped {border: 1px dashed gray;margin: 0 0.4em 0.5em 0.4em;box-sizing: border-box;padding-bottom: 0.4em;background-color: white;}#sk-container-id-7 div.sk-label label {font-family: monospace;font-weight: bold;display: inline-block;line-height: 1.2em;}#sk-container-id-7 div.sk-label-container {text-align: center;}#sk-container-id-7 div.sk-container {/* jupyter's `normalize.less` sets `[hidden] { display: none; }` but bootstrap.min.css set `[hidden] { display: none !important; }` so we also need the `!important` here to be able to override the default hidden behavior on the sphinx rendered scikit-learn.org. See: https://github.com/scikit-learn/scikit-learn/issues/21755 */display: inline-block !important;position: relative;}#sk-container-id-7 div.sk-text-repr-fallback {display: none;}</style><div id=\"sk-container-id-7\" class=\"sk-top-container\"><div class=\"sk-text-repr-fallback\"><pre>LinearSVC()</pre><b>In a Jupyter environment, please rerun this cell to show the HTML representation or trust the notebook. <br />On GitHub, the HTML representation is unable to render, please try loading this page with nbviewer.org.</b></div><div class=\"sk-container\" hidden><div class=\"sk-item\"><div class=\"sk-estimator sk-toggleable\"><input class=\"sk-toggleable__control sk-hidden--visually\" id=\"sk-estimator-id-7\" type=\"checkbox\" checked><label for=\"sk-estimator-id-7\" class=\"sk-toggleable__label sk-toggleable__label-arrow\">LinearSVC</label><div class=\"sk-toggleable__content\"><pre>LinearSVC()</pre></div></div></div></div></div>"
            ]
          },
          "metadata": {},
          "execution_count": 105
        }
      ]
    },
    {
      "cell_type": "code",
      "source": [
        "pacienteX = [1,1,1,1]\n",
        "\n",
        "modelo.predict([pacienteX])"
      ],
      "metadata": {
        "id": "sbdYlNuLnLGC",
        "colab": {
          "base_uri": "https://localhost:8080/"
        },
        "outputId": "99ea97b2-d436-4aa4-e2c2-13de198d78ee"
      },
      "execution_count": null,
      "outputs": [
        {
          "output_type": "execute_result",
          "data": {
            "text/plain": [
              "array([1])"
            ]
          },
          "metadata": {},
          "execution_count": 106
        }
      ]
    },
    {
      "cell_type": "markdown",
      "source": [
        "# ACURACIA"
      ],
      "metadata": {
        "id": "_QOeTrD6h_eK"
      }
    },
    {
      "cell_type": "markdown",
      "source": [
        "Criando teste"
      ],
      "metadata": {
        "id": "4SQSeXPmxxpS"
      }
    },
    {
      "cell_type": "code",
      "source": [],
      "metadata": {
        "id": "2FSVYvj7x0bJ"
      },
      "execution_count": null,
      "outputs": []
    },
    {
      "cell_type": "code",
      "source": [
        "paciente7 = [1,1,1,1]\n",
        "paciente8 = [1,1,0,0]\n",
        "paciente9 = [1,0,1,1]\n",
        "\n",
        "teste_x=[paciente7,paciente8,paciente9]"
      ],
      "metadata": {
        "id": "Vxj9OFoJn3dH"
      },
      "execution_count": null,
      "outputs": []
    },
    {
      "cell_type": "code",
      "source": [
        "previsoes = modelo.predict (teste_x)\n",
        "print(previsoes)"
      ],
      "metadata": {
        "colab": {
          "base_uri": "https://localhost:8080/"
        },
        "id": "4Fw69TM0wbRp",
        "outputId": "dbc00139-41ce-46c2-c1a8-bb34a908d6be"
      },
      "execution_count": null,
      "outputs": [
        {
          "output_type": "stream",
          "name": "stdout",
          "text": [
            "[1 0 1]\n"
          ]
        }
      ]
    },
    {
      "cell_type": "code",
      "source": [
        "teste_y = [1, 0, 1]\n",
        "\n",
        "previsoes == teste_y"
      ],
      "metadata": {
        "colab": {
          "base_uri": "https://localhost:8080/"
        },
        "id": "t7w6MyMJygw9",
        "outputId": "80cae88c-f693-4899-b996-6a29f16f4cf0"
      },
      "execution_count": null,
      "outputs": [
        {
          "output_type": "execute_result",
          "data": {
            "text/plain": [
              "array([ True,  True,  True])"
            ]
          },
          "metadata": {},
          "execution_count": 109
        }
      ]
    },
    {
      "cell_type": "code",
      "source": [
        "corretos = (previsoes == teste_y).sum()\n",
        "total = len(teste_x)\n",
        "taxaAcerto = corretos/total\n",
        "print(f\"Taxa de acerto:  {taxaAcerto * 100}\")"
      ],
      "metadata": {
        "colab": {
          "base_uri": "https://localhost:8080/"
        },
        "id": "w91w3Pity5YR",
        "outputId": "046c6822-b79c-4cfe-e47a-59414e8c29d5"
      },
      "execution_count": null,
      "outputs": [
        {
          "output_type": "stream",
          "name": "stdout",
          "text": [
            "Taxa de acerto:  100.0\n"
          ]
        }
      ]
    },
    {
      "cell_type": "code",
      "source": [
        "from sklearn.metrics import accuracy_score\n",
        "acerto = accuracy_score(teste_y, previsoes)\n",
        "print(acerto*100)"
      ],
      "metadata": {
        "colab": {
          "base_uri": "https://localhost:8080/"
        },
        "id": "a8vANL3qy8jq",
        "outputId": "eb316d62-dafa-4b56-c4df-7aab4ccfe621"
      },
      "execution_count": null,
      "outputs": [
        {
          "output_type": "stream",
          "name": "stdout",
          "text": [
            "100.0\n"
          ]
        }
      ]
    },
    {
      "cell_type": "code",
      "source": [
        "def questionario():\n",
        "  resp = []\n",
        "\n",
        "  print(\"Formuário COVID-19\")\n",
        "  print(\"\")\n",
        "  print(\"Preencha com 1 para sim e 0 para não, de acordo com seus sintomas\")\n",
        "\n",
        "  print(\"Você está sentindo falta de ar?\")\n",
        "  p1 = int(input(\"[]Não ou []Sim: \"))\n",
        "  resp.append(p1)\n",
        "\n",
        "  print(\"Você está tossindo?\")\n",
        "  p2 = int(input(\"[]Não ou []Sim: \"))\n",
        "  resp.append(p2)\n",
        "\n",
        "  print(\"Você está com falta de paladar?\")\n",
        "  p3 = int(input(\"[]Não ou []Sim: \"))\n",
        "  resp.append(p3)\n",
        "\n",
        "  print(\"Você está com coriza?\")\n",
        "  p4 = int(input(\"[]Não ou []Sim: \"))\n",
        "  resp.append(p4)\n",
        "\n",
        "  return resp\n",
        "\n",
        "resp_quest = questionario()\n",
        "\n",
        "resultado = modelo.predict([resp_quest])\n",
        "if resultado[0]:\n",
        "  print(\"Teste POSITIVO para COVID-19\")\n",
        "else:\n",
        "  print(\"Teste NEGATIVO para COVID-19\")"
      ],
      "metadata": {
        "id": "DCzcKBGtE_1V",
        "colab": {
          "base_uri": "https://localhost:8080/"
        },
        "outputId": "960b1f98-5641-446f-99b7-1312e78fc724"
      },
      "execution_count": null,
      "outputs": [
        {
          "output_type": "stream",
          "name": "stdout",
          "text": [
            "Formuário COVID-19\n",
            "\n",
            "Preencha com 1 para sim e 0 para não, de acordo com seus sintomas\n",
            "Você está sentindo falta de ar?\n",
            "[]Não ou []Sim: 0\n",
            "Você está tossindo?\n",
            "[]Não ou []Sim: 1\n",
            "Você está com falta de paladar?\n",
            "[]Não ou []Sim: 1\n",
            "Você está com coriza?\n",
            "[]Não ou []Sim: 1\n",
            "Teste POSITIVO para COVID-19\n"
          ]
        }
      ]
    }
  ]
}